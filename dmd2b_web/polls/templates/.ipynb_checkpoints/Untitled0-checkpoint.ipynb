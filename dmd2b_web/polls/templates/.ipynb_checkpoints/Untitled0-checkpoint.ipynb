{
 "metadata": {
  "name": "",
  "signature": "sha256:c997b6ebc5b8cd1db08ef4becbd1aa82a925842f9db1e3b21d583d234a82e9f4"
 },
 "nbformat": 3,
 "nbformat_minor": 0,
 "worksheets": []
}